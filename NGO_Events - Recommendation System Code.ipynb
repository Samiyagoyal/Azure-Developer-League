{
 "cells": [
  {
   "cell_type": "code",
   "execution_count": 5,
   "metadata": {},
   "outputs": [],
   "source": [
    "# Basic data analysis libraries\n",
    "import pandas as pd\n",
    "\n",
    "# Text pre-processing libraries\n",
    "from sklearn.feature_extraction.text import TfidfVectorizer\n",
    "from sklearn.metrics.pairwise import cosine_similarity\n",
    "\n",
    "import os\n",
    "import azureml.core\n",
    "\n",
    "from azureml.core import Experiment\n",
    "\n",
    "from azureml.core import Run\n",
    "from azureml.core import Workspace, Dataset, Model\n",
    "import joblib"
   ]
  },
  {
   "cell_type": "code",
   "execution_count": 3,
   "metadata": {},
   "outputs": [
    {
     "name": "stderr",
     "output_type": "stream",
     "text": [
      "Note, we have launched a browser for you to login. For old experience with device code, use \"az login --use-device-code\"\n"
     ]
    },
    {
     "name": "stdout",
     "output_type": "stream",
     "text": [
      "Performing interactive authentication. Please follow the instructions on the terminal.\n",
      "You have logged in. Now let us find all the subscriptions to which you have access...\n",
      "Interactive authentication successfully completed.\n"
     ]
    }
   ],
   "source": [
    "from azureml.core.authentication import InteractiveLoginAuthentication\n",
    "ia = InteractiveLoginAuthentication(tenant_id='2b3cdc74-0511-49a7-92e7-00d8abdf2be4')\n",
    "# You can find tenant id under azure active directory->properties\n",
    "ws = Workspace.get(name='societree-nmit-2021',\n",
    "                     subscription_id='d069e33b-af31-45d3-89cf-0e3064b3889b',\n",
    "                     resource_group='societree-nmit-2021',auth=ia)"
   ]
  },
  {
   "cell_type": "code",
   "execution_count": 4,
   "metadata": {},
   "outputs": [
    {
     "data": {
      "text/html": [
       "<div>\n",
       "<style scoped>\n",
       "    .dataframe tbody tr th:only-of-type {\n",
       "        vertical-align: middle;\n",
       "    }\n",
       "\n",
       "    .dataframe tbody tr th {\n",
       "        vertical-align: top;\n",
       "    }\n",
       "\n",
       "    .dataframe thead th {\n",
       "        text-align: right;\n",
       "    }\n",
       "</style>\n",
       "<table border=\"1\" class=\"dataframe\">\n",
       "  <thead>\n",
       "    <tr style=\"text-align: right;\">\n",
       "      <th></th>\n",
       "      <th>Name</th>\n",
       "      <th>Description</th>\n",
       "    </tr>\n",
       "  </thead>\n",
       "  <tbody>\n",
       "    <tr>\n",
       "      <th>0</th>\n",
       "      <td>Aavi Rural and Urban Development Organisation ...</td>\n",
       "      <td>social services urban rural karnataka adults f...</td>\n",
       "    </tr>\n",
       "    <tr>\n",
       "      <th>1</th>\n",
       "      <td>Arsh Yog Avam Jan Kalyan Trust</td>\n",
       "      <td>health urban rural all india adolescents adult...</td>\n",
       "    </tr>\n",
       "    <tr>\n",
       "      <th>2</th>\n",
       "      <td>BALLSY GROUP</td>\n",
       "      <td>social services urban rural assam adults</td>\n",
       "    </tr>\n",
       "    <tr>\n",
       "      <th>3</th>\n",
       "      <td>BAMONGRAM RESHAM KHADI PRATISTHAN</td>\n",
       "      <td>social services urban rural west bengal accide...</td>\n",
       "    </tr>\n",
       "    <tr>\n",
       "      <th>4</th>\n",
       "      <td>BARRACKPUR BELA MEMORIAL CHARITABLE WELFARE SO...</td>\n",
       "      <td>health rural west bengal children dalits rural...</td>\n",
       "    </tr>\n",
       "    <tr>\n",
       "      <th>...</th>\n",
       "      <td>...</td>\n",
       "      <td>...</td>\n",
       "    </tr>\n",
       "    <tr>\n",
       "      <th>2572</th>\n",
       "      <td>Women Organisation for Rural Development (WORD)</td>\n",
       "      <td>social services rural odisha women</td>\n",
       "    </tr>\n",
       "    <tr>\n",
       "      <th>2573</th>\n",
       "      <td>WOMENITE</td>\n",
       "      <td>social services urban rural all india adolesce...</td>\n",
       "    </tr>\n",
       "    <tr>\n",
       "      <th>2574</th>\n",
       "      <td>Women'S India Trust</td>\n",
       "      <td>development and housing urban rural maharashtr...</td>\n",
       "    </tr>\n",
       "    <tr>\n",
       "      <th>2575</th>\n",
       "      <td>WWH ( WE WILL HELP) CHARITABLE FOUNDATION</td>\n",
       "      <td>social services urban rural maharashtra accide...</td>\n",
       "    </tr>\n",
       "    <tr>\n",
       "      <th>2576</th>\n",
       "      <td>Yash Charitable Trust</td>\n",
       "      <td>social services urban maharashtra adults menta...</td>\n",
       "    </tr>\n",
       "  </tbody>\n",
       "</table>\n",
       "<p>2577 rows × 2 columns</p>\n",
       "</div>"
      ],
      "text/plain": [
       "                                                   Name  \\\n",
       "0     Aavi Rural and Urban Development Organisation ...   \n",
       "1                        Arsh Yog Avam Jan Kalyan Trust   \n",
       "2                                          BALLSY GROUP   \n",
       "3                     BAMONGRAM RESHAM KHADI PRATISTHAN   \n",
       "4     BARRACKPUR BELA MEMORIAL CHARITABLE WELFARE SO...   \n",
       "...                                                 ...   \n",
       "2572    Women Organisation for Rural Development (WORD)   \n",
       "2573                                           WOMENITE   \n",
       "2574                                Women'S India Trust   \n",
       "2575          WWH ( WE WILL HELP) CHARITABLE FOUNDATION   \n",
       "2576                              Yash Charitable Trust   \n",
       "\n",
       "                                            Description  \n",
       "0     social services urban rural karnataka adults f...  \n",
       "1     health urban rural all india adolescents adult...  \n",
       "2              social services urban rural assam adults  \n",
       "3     social services urban rural west bengal accide...  \n",
       "4     health rural west bengal children dalits rural...  \n",
       "...                                                 ...  \n",
       "2572                 social services rural odisha women  \n",
       "2573  social services urban rural all india adolesce...  \n",
       "2574  development and housing urban rural maharashtr...  \n",
       "2575  social services urban rural maharashtra accide...  \n",
       "2576  social services urban maharashtra adults menta...  \n",
       "\n",
       "[2577 rows x 2 columns]"
      ]
     },
     "execution_count": 4,
     "metadata": {},
     "output_type": "execute_result"
    }
   ],
   "source": [
    "df = pd.read_csv('./data_from_azure/ngo_details.csv')\n",
    "df"
   ]
  },
  {
   "cell_type": "code",
   "execution_count": 7,
   "metadata": {},
   "outputs": [],
   "source": [
    "tfidf = TfidfVectorizer(analyzer='word', min_df=0)\n",
    "\n",
    "vec_arr = tfidf.fit_transform(df['Description'])\n",
    "vec_features = tfidf.get_feature_names()\n",
    "\n",
    "sim_mat = cosine_similarity(vec_arr, vec_arr)\n",
    "\n",
    "titles = df['Name']\n",
    "indices = pd.Series(df.index, index=df['Name'])"
   ]
  },
  {
   "cell_type": "code",
   "execution_count": 12,
   "metadata": {},
   "outputs": [
    {
     "data": {
      "text/plain": [
       "['./pickle_file/ngo_rec_model.pkl']"
      ]
     },
     "execution_count": 12,
     "metadata": {},
     "output_type": "execute_result"
    }
   ],
   "source": [
    "our_model = (sim_mat, titles, indices)\n",
    "model_file = './pickle_file/ngo_rec_model.pkl'\n",
    "joblib.dump(our_model, filename=model_file, compress=0, protocol=None, cache_size=None)"
   ]
  },
  {
   "cell_type": "code",
   "execution_count": null,
   "metadata": {},
   "outputs": [],
   "source": [
    "#Driver Function for getting recommendations\n",
    "\n",
    "def get_recommendations(name):\n",
    "    idx = indices[name]\n",
    "    print(idx)\n",
    "    sim_scores = list(enumerate(sim_mat[idx]))\n",
    "    sim_scores = sorted(sim_scores, key=lambda x: x[1], reverse=True)\n",
    "    sim_scores = sim_scores[1:6]\n",
    "    ngo_indices = [i[0] for i in sim_scores]\n",
    "    print(sim_scores)\n",
    "    print(ngo_indices)\n",
    "    return titles.iloc[ngo_indices].values"
   ]
  },
  {
   "cell_type": "code",
   "execution_count": 13,
   "metadata": {},
   "outputs": [
    {
     "name": "stdout",
     "output_type": "stream",
     "text": [
      "Registering model recommender-model\n"
     ]
    }
   ],
   "source": [
    "#registering model\n",
    "\n",
    "model = Model.register(workspace=ws,\n",
    "                    model_name='recommender-model',\n",
    "                    model_path=os.path.join('.','pickle_file/ngo_rec_model.pkl'),\n",
    "                    tags={'subject': \"NMIT-Hack-2021\", 'type': \"TF-IDF custom\"},\n",
    "                    description=\"\")"
   ]
  },
  {
   "cell_type": "code",
   "execution_count": 24,
   "metadata": {},
   "outputs": [],
   "source": [
    "experiment_folder = \"./pickle_file\""
   ]
  },
  {
   "cell_type": "code",
   "execution_count": 25,
   "metadata": {},
   "outputs": [
    {
     "data": {
      "text/plain": [
       "'./pickle_file/earlierscoringscript.py'"
      ]
     },
     "execution_count": 25,
     "metadata": {},
     "output_type": "execute_result"
    }
   ],
   "source": [
    "script_file = os.path.join(experiment_folder,\"earlierscoringscript.py\")\n",
    "script_file"
   ]
  },
  {
   "cell_type": "code",
   "execution_count": 17,
   "metadata": {},
   "outputs": [
    {
     "name": "stdout",
     "output_type": "stream",
     "text": [
      "Saved dependency info in ./pickle_file/NGO_Rec_dependancies.yml\n",
      "# Conda environment specification. The dependencies defined in this file will\n",
      "# be automatically provisioned for runs with userManagedDependencies=False.\n",
      "\n",
      "# Details about the Conda environment file format:\n",
      "# https://conda.io/docs/user-guide/tasks/manage-environments.html#create-env-file-manually\n",
      "\n",
      "name: project_environment\n",
      "dependencies:\n",
      "  # The python interpreter version.\n",
      "  # Currently Azure ML only supports 3.5.2 and later.\n",
      "- python=3.6.2\n",
      "\n",
      "- pip:\n",
      "    # Required packages for AzureML execution, history, and data preparation.\n",
      "  - azureml-defaults\n",
      "\n",
      "- scikit-learn\n",
      "channels:\n",
      "- anaconda\n",
      "- conda-forge\n",
      "\n"
     ]
    }
   ],
   "source": [
    "#Creating YAML file consisting of the dependecied and their version number\n",
    "\n",
    "from azureml.core.conda_dependencies import CondaDependencies \n",
    "\n",
    "# Add the dependencies for our model (AzureML defaults is already included)\n",
    "myenv = CondaDependencies()\n",
    "myenv.add_conda_package('scikit-learn')\n",
    "\n",
    "experiment_folder = \"./pickle_file/\"\n",
    "\n",
    "# Save the environment config as a .yml file\n",
    "env_file = os.path.join(experiment_folder,\"NGO_Rec_dependancies.yml\")\n",
    "with open(env_file,\"w\") as f:\n",
    "    f.write(myenv.serialize_to_string())\n",
    "print(\"Saved dependency info in\", env_file)\n",
    "\n",
    "# Print the .yml file\n",
    "with open(env_file,\"r\") as f:\n",
    "    print(f.read())"
   ]
  },
  {
   "cell_type": "code",
   "execution_count": 28,
   "metadata": {},
   "outputs": [
        {
     "name": "stdout",
     "output_type": "stream",
     "text": [
      "Tips: You can try get_logs(): https://aka.ms/debugimage#dockerlog or local deployment: https://aka.ms/debugimage#debug-locally to debug if deployment takes longer than 10 minutes.\n",
      "Running..........................................\n",
      "Succeeded\n",
      "ACI service creation operation finished, operation \"Succeeded\"\n",
      "Healthy\n"
     ]
    }
   ],
   "source": [
    "#Deploying the Azure Model, So that It can be consumed as a REST API endpoint\n",
    "\n",
    "from azureml.core.webservice import AciWebservice\n",
    "from azureml.core.model import InferenceConfig\n",
    "\n",
    "# Configure the scoring environment\n",
    "inference_config = InferenceConfig(runtime= \"python\",\n",
    "                                   entry_script=script_file,\n",
    "                                   conda_file=env_file)\n",
    "\n",
    "deployment_config = AciWebservice.deploy_configuration(cpu_cores = 1, memory_gb = 1)\n",
    "\n",
    "service_name = \"ngo-rec-service-nmit\"\n",
    "\n",
    "service = Model.deploy(ws, service_name, [model], inference_config, deployment_config)\n",
    "\n",
    "service.wait_for_deployment(True)\n",
    "print(service.state)"
   ]
  },
  {
   "cell_type": "code",
   "execution_count": null,
   "metadata": {},
   "outputs": [],
   "source": []
  },
  {
   "cell_type": "code",
   "execution_count": null,
   "metadata": {},
   "outputs": [],
   "source": []
  },
  {
   "cell_type": "code",
   "execution_count": null,
   "metadata": {},
   "outputs": [],
   "source": []
  }
 ],
 "metadata": {
  "kernelspec": {
   "display_name": "Python 3",
   "language": "python",
   "name": "python3"
  },
  "language_info": {
   "codemirror_mode": {
    "name": "ipython",
    "version": 3
   },
   "file_extension": ".py",
   "mimetype": "text/x-python",
   "name": "python",
   "nbconvert_exporter": "python",
   "pygments_lexer": "ipython3",
   "version": "3.8.5"
  }
 },
 "nbformat": 4,
 "nbformat_minor": 4
}
